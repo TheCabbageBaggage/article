{
 "cells": [
  {
   "cell_type": "code",
   "execution_count": 1,
   "metadata": {},
   "outputs": [],
   "source": [
    "import scholarly"
   ]
  },
  {
   "cell_type": "code",
   "execution_count": 4,
   "metadata": {},
   "outputs": [],
   "source": [
    "keywords = ['smart maintenance','prescriptive maintenance','prescriptive maintenance']"
   ]
  },
  {
   "cell_type": "code",
   "execution_count": 17,
   "metadata": {},
   "outputs": [],
   "source": [
    "search_query = scholarly.search_pubs_query('smart maintenance')"
   ]
  },
  {
   "cell_type": "code",
   "execution_count": 20,
   "metadata": {},
   "outputs": [
    {
     "name": "stdout",
     "output_type": "stream",
     "text": [
      "{'_filled': False,\n",
      " 'bib': {'abstract': 'Increasing the efficiency of production and '\n",
      "                     'manufacturing processes is a key goal of initiatives '\n",
      "                     'like Industry 4.0. Within the context of the European '\n",
      "                     'research project ARROWHEAD, we enable and secure smart '\n",
      "                     'maintenance services. An overall goal is to …',\n",
      "         'author': 'C Lesjak and D Hein and M Hofmann…',\n",
      "         'eprint': 'https://ieeexplore.ieee.org/iel7/7270516/7281697/07281913.pdf',\n",
      "         'title': 'Securing smart maintenance services: Hardware-security and '\n",
      "                  'TLS for MQTT',\n",
      "         'url': 'https://ieeexplore.ieee.org/abstract/document/7281913/'},\n",
      " 'source': 'scholar'}\n"
     ]
    }
   ],
   "source": [
    "print(next(search_query))"
   ]
  },
  {
   "cell_type": "code",
   "execution_count": 25,
   "metadata": {},
   "outputs": [],
   "source": [
    "publications = []"
   ]
  },
  {
   "cell_type": "code",
   "execution_count": 50,
   "metadata": {},
   "outputs": [],
   "source": [
    "a = 0"
   ]
  },
  {
   "cell_type": "code",
   "execution_count": 36,
   "metadata": {},
   "outputs": [],
   "source": [
    "import sys"
   ]
  },
  {
   "cell_type": "code",
   "execution_count": 47,
   "metadata": {},
   "outputs": [],
   "source": [
    "sys.stdout = open('keyword_scan.json', 'w')"
   ]
  },
  {
   "cell_type": "code",
   "execution_count": 51,
   "metadata": {},
   "outputs": [],
   "source": [
    "while a < 4:\n",
    "    print(next(search_query), file=sys.stdout)\n",
    "    a += 1"
   ]
  },
  {
   "cell_type": "code",
   "execution_count": 42,
   "metadata": {},
   "outputs": [
    {
     "data": {
      "text/plain": [
       "<scholarly.scholarly.Publication at 0x161ba971eb8>"
      ]
     },
     "execution_count": 42,
     "metadata": {},
     "output_type": "execute_result"
    }
   ],
   "source": [
    "publications[1]"
   ]
  },
  {
   "cell_type": "code",
   "execution_count": null,
   "metadata": {},
   "outputs": [],
   "source": []
  }
 ],
 "metadata": {
  "kernelspec": {
   "display_name": "Python 3",
   "language": "python",
   "name": "python3"
  },
  "language_info": {
   "codemirror_mode": {
    "name": "ipython",
    "version": 3
   },
   "file_extension": ".py",
   "mimetype": "text/x-python",
   "name": "python",
   "nbconvert_exporter": "python",
   "pygments_lexer": "ipython3",
   "version": "3.7.3"
  }
 },
 "nbformat": 4,
 "nbformat_minor": 2
}
